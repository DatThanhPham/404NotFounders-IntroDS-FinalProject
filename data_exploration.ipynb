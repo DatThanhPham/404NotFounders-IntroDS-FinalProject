{
 "cells": [
  {
   "cell_type": "markdown",
   "metadata": {},
   "source": [
    "# Data exploration"
   ]
  },
  {
   "cell_type": "markdown",
   "metadata": {},
   "source": [
    "## Import necessary packages"
   ]
  },
  {
   "cell_type": "code",
   "execution_count": 2,
   "metadata": {},
   "outputs": [],
   "source": [
    "import pandas as pd\n",
    "import numpy as np"
   ]
  },
  {
   "cell_type": "markdown",
   "metadata": {},
   "source": [
    "## Read raw data from csv file"
   ]
  },
  {
   "cell_type": "code",
   "execution_count": 3,
   "metadata": {},
   "outputs": [
    {
     "data": {
      "text/html": [
       "<div>\n",
       "<style scoped>\n",
       "    .dataframe tbody tr th:only-of-type {\n",
       "        vertical-align: middle;\n",
       "    }\n",
       "\n",
       "    .dataframe tbody tr th {\n",
       "        vertical-align: top;\n",
       "    }\n",
       "\n",
       "    .dataframe thead th {\n",
       "        text-align: right;\n",
       "    }\n",
       "</style>\n",
       "<table border=\"1\" class=\"dataframe\">\n",
       "  <thead>\n",
       "    <tr style=\"text-align: right;\">\n",
       "      <th></th>\n",
       "      <th>name</th>\n",
       "      <th>age</th>\n",
       "      <th>nationality</th>\n",
       "      <th>club</th>\n",
       "      <th>position</th>\n",
       "      <th>height</th>\n",
       "      <th>weight</th>\n",
       "      <th>foot</th>\n",
       "      <th>total_matches</th>\n",
       "      <th>total_goals</th>\n",
       "      <th>...</th>\n",
       "      <th>shot_accuracy</th>\n",
       "      <th>pass_completion_rate</th>\n",
       "      <th>cross_completion_rate</th>\n",
       "      <th>minutes_per_assist</th>\n",
       "      <th>dribble_success_rate</th>\n",
       "      <th>tackles</th>\n",
       "      <th>interception</th>\n",
       "      <th>market_value</th>\n",
       "      <th>titles</th>\n",
       "      <th>injuries</th>\n",
       "    </tr>\n",
       "  </thead>\n",
       "  <tbody>\n",
       "    <tr>\n",
       "      <th>0</th>\n",
       "      <td>Ardian Ismajli</td>\n",
       "      <td>28.0</td>\n",
       "      <td>Albania</td>\n",
       "      <td>Empoli</td>\n",
       "      <td>Defender - Centre Back</td>\n",
       "      <td>185.0</td>\n",
       "      <td>76.0</td>\n",
       "      <td>Right</td>\n",
       "      <td>227</td>\n",
       "      <td>5</td>\n",
       "      <td>...</td>\n",
       "      <td>0.0</td>\n",
       "      <td>82.93</td>\n",
       "      <td>0.0</td>\n",
       "      <td>NaN</td>\n",
       "      <td>0.00</td>\n",
       "      <td>8.0</td>\n",
       "      <td>16.0</td>\n",
       "      <td>5.0</td>\n",
       "      <td>0.0</td>\n",
       "      <td>3</td>\n",
       "    </tr>\n",
       "    <tr>\n",
       "      <th>1</th>\n",
       "      <td>Berat Djimsiti</td>\n",
       "      <td>31.0</td>\n",
       "      <td>Albania</td>\n",
       "      <td>Atalanta</td>\n",
       "      <td>Defender - Centre Back</td>\n",
       "      <td>190.0</td>\n",
       "      <td>83.0</td>\n",
       "      <td>Right</td>\n",
       "      <td>472</td>\n",
       "      <td>15</td>\n",
       "      <td>...</td>\n",
       "      <td>0.0</td>\n",
       "      <td>88.32</td>\n",
       "      <td>0.0</td>\n",
       "      <td>NaN</td>\n",
       "      <td>100.00</td>\n",
       "      <td>21.0</td>\n",
       "      <td>16.0</td>\n",
       "      <td>10.0</td>\n",
       "      <td>2.0</td>\n",
       "      <td>3</td>\n",
       "    </tr>\n",
       "    <tr>\n",
       "      <th>2</th>\n",
       "      <td>Elseid Hysaj</td>\n",
       "      <td>30.0</td>\n",
       "      <td>Albania</td>\n",
       "      <td>Lazio</td>\n",
       "      <td>Defender - Right Back</td>\n",
       "      <td>182.0</td>\n",
       "      <td>75.0</td>\n",
       "      <td>Right</td>\n",
       "      <td>487</td>\n",
       "      <td>6</td>\n",
       "      <td>...</td>\n",
       "      <td>0.0</td>\n",
       "      <td>86.67</td>\n",
       "      <td>0.0</td>\n",
       "      <td>NaN</td>\n",
       "      <td>0.00</td>\n",
       "      <td>1.0</td>\n",
       "      <td>0.0</td>\n",
       "      <td>2.5</td>\n",
       "      <td>1.0</td>\n",
       "      <td>2</td>\n",
       "    </tr>\n",
       "    <tr>\n",
       "      <th>3</th>\n",
       "      <td>Ivan Balliu</td>\n",
       "      <td>32.0</td>\n",
       "      <td>Albania</td>\n",
       "      <td>Rayo Vallecano</td>\n",
       "      <td>Defender - Right Back</td>\n",
       "      <td>172.0</td>\n",
       "      <td>63.0</td>\n",
       "      <td>Right</td>\n",
       "      <td>421</td>\n",
       "      <td>3</td>\n",
       "      <td>...</td>\n",
       "      <td>0.0</td>\n",
       "      <td>76.73</td>\n",
       "      <td>0.0</td>\n",
       "      <td>NaN</td>\n",
       "      <td>66.67</td>\n",
       "      <td>10.0</td>\n",
       "      <td>6.0</td>\n",
       "      <td>2.0</td>\n",
       "      <td>2.0</td>\n",
       "      <td>19</td>\n",
       "    </tr>\n",
       "    <tr>\n",
       "      <th>4</th>\n",
       "      <td>Kristjan Asllani</td>\n",
       "      <td>22.0</td>\n",
       "      <td>Albania</td>\n",
       "      <td>Inter Milan</td>\n",
       "      <td>Midfielder - Attacking Midfield</td>\n",
       "      <td>175.0</td>\n",
       "      <td>63.0</td>\n",
       "      <td>NaN</td>\n",
       "      <td>107</td>\n",
       "      <td>6</td>\n",
       "      <td>...</td>\n",
       "      <td>50.0</td>\n",
       "      <td>90.57</td>\n",
       "      <td>50.0</td>\n",
       "      <td>NaN</td>\n",
       "      <td>0.00</td>\n",
       "      <td>4.0</td>\n",
       "      <td>0.0</td>\n",
       "      <td>18.0</td>\n",
       "      <td>6.0</td>\n",
       "      <td>1</td>\n",
       "    </tr>\n",
       "  </tbody>\n",
       "</table>\n",
       "<p>5 rows × 25 columns</p>\n",
       "</div>"
      ],
      "text/plain": [
       "               name   age nationality            club  \\\n",
       "0    Ardian Ismajli  28.0     Albania          Empoli   \n",
       "1    Berat Djimsiti  31.0     Albania        Atalanta   \n",
       "2      Elseid Hysaj  30.0     Albania           Lazio   \n",
       "3       Ivan Balliu  32.0     Albania  Rayo Vallecano   \n",
       "4  Kristjan Asllani  22.0     Albania     Inter Milan   \n",
       "\n",
       "                          position  height  weight   foot  total_matches  \\\n",
       "0           Defender - Centre Back   185.0    76.0  Right            227   \n",
       "1           Defender - Centre Back   190.0    83.0  Right            472   \n",
       "2            Defender - Right Back   182.0    75.0  Right            487   \n",
       "3            Defender - Right Back   172.0    63.0  Right            421   \n",
       "4  Midfielder - Attacking Midfield   175.0    63.0    NaN            107   \n",
       "\n",
       "   total_goals  ...  shot_accuracy  pass_completion_rate  \\\n",
       "0            5  ...            0.0                 82.93   \n",
       "1           15  ...            0.0                 88.32   \n",
       "2            6  ...            0.0                 86.67   \n",
       "3            3  ...            0.0                 76.73   \n",
       "4            6  ...           50.0                 90.57   \n",
       "\n",
       "   cross_completion_rate  minutes_per_assist  dribble_success_rate  tackles  \\\n",
       "0                    0.0                 NaN                  0.00      8.0   \n",
       "1                    0.0                 NaN                100.00     21.0   \n",
       "2                    0.0                 NaN                  0.00      1.0   \n",
       "3                    0.0                 NaN                 66.67     10.0   \n",
       "4                   50.0                 NaN                  0.00      4.0   \n",
       "\n",
       "   interception  market_value  titles  injuries  \n",
       "0          16.0           5.0     0.0         3  \n",
       "1          16.0          10.0     2.0         3  \n",
       "2           0.0           2.5     1.0         2  \n",
       "3           6.0           2.0     2.0        19  \n",
       "4           0.0          18.0     6.0         1  \n",
       "\n",
       "[5 rows x 25 columns]"
      ]
     },
     "metadata": {},
     "output_type": "display_data"
    },
    {
     "name": "stdout",
     "output_type": "stream",
     "text": [
      "Size of data:  (2092, 25)\n"
     ]
    }
   ],
   "source": [
    "df = pd.DataFrame()\n",
    "df = pd.read_csv('players.csv')\n",
    "\n",
    "# test output\n",
    "display(df.head())\n",
    "\n",
    "# size of the data\n",
    "print(\"Size of data: \", df.shape)"
   ]
  },
  {
   "cell_type": "markdown",
   "metadata": {},
   "source": [
    "### Number of columns and rows"
   ]
  },
  {
   "cell_type": "code",
   "execution_count": null,
   "metadata": {},
   "outputs": [
    {
     "name": "stdout",
     "output_type": "stream",
     "text": [
      "Number of rows:  2092\n",
      "Number of columns:  25\n"
     ]
    }
   ],
   "source": [
    "num_cols = len(df.columns)\n",
    "num_rows = len(df.index)\n",
    "\n",
    "print('Number of rows: ', num_rows)\n",
    "print('Number of columns: ', num_cols)"
   ]
  },
  {
   "cell_type": "markdown",
   "metadata": {},
   "source": [
    "## Convert attributes to their appropriate data types\n",
    "\n",
    "### Current data types"
   ]
  },
  {
   "cell_type": "code",
   "execution_count": 55,
   "metadata": {},
   "outputs": [
    {
     "name": "stdout",
     "output_type": "stream",
     "text": [
      "<class 'pandas.core.frame.DataFrame'>\n",
      "RangeIndex: 2092 entries, 0 to 2091\n",
      "Data columns (total 25 columns):\n",
      " #   Column                     Non-Null Count  Dtype  \n",
      "---  ------                     --------------  -----  \n",
      " 0   name                       2092 non-null   object \n",
      " 1   age                        2060 non-null   float64\n",
      " 2   nationality                2092 non-null   object \n",
      " 3   club                       2092 non-null   object \n",
      " 4   position                   2092 non-null   object \n",
      " 5   height                     1813 non-null   float64\n",
      " 6   weight                     1610 non-null   float64\n",
      " 7   foot                       1241 non-null   object \n",
      " 8   total_matches              2092 non-null   int64  \n",
      " 9   total_goals                2092 non-null   int64  \n",
      " 10  total_minutes              2092 non-null   int64  \n",
      " 11  total_assists              1293 non-null   float64\n",
      " 12  total_yellow               2092 non-null   int64  \n",
      " 13  total_red                  2092 non-null   int64  \n",
      " 14  minutes_per_goal_conceded  2092 non-null   int64  \n",
      " 15  shot_accuracy              1863 non-null   float64\n",
      " 16  pass_completion_rate       1863 non-null   float64\n",
      " 17  cross_completion_rate      1863 non-null   float64\n",
      " 18  minutes_per_assist         607 non-null    float64\n",
      " 19  dribble_success_rate       1863 non-null   float64\n",
      " 20  tackles                    1863 non-null   float64\n",
      " 21  interception               1863 non-null   float64\n",
      " 22  market_value               1931 non-null   float64\n",
      " 23  titles                     1935 non-null   float64\n",
      " 24  injuries                   2092 non-null   int64  \n",
      "dtypes: float64(13), int64(7), object(5)\n",
      "memory usage: 408.7+ KB\n"
     ]
    }
   ],
   "source": [
    "df.info()"
   ]
  },
  {
   "cell_type": "markdown",
   "metadata": {},
   "source": [
    "### Convert attributes to more suitable data types"
   ]
  },
  {
   "cell_type": "code",
   "execution_count": 56,
   "metadata": {},
   "outputs": [
    {
     "name": "stdout",
     "output_type": "stream",
     "text": [
      "<class 'pandas.core.frame.DataFrame'>\n",
      "RangeIndex: 2092 entries, 0 to 2091\n",
      "Data columns (total 25 columns):\n",
      " #   Column                     Non-Null Count  Dtype  \n",
      "---  ------                     --------------  -----  \n",
      " 0   name                       2092 non-null   string \n",
      " 1   age                        2060 non-null   Int64  \n",
      " 2   nationality                2092 non-null   string \n",
      " 3   club                       2092 non-null   string \n",
      " 4   position                   2092 non-null   string \n",
      " 5   height                     1813 non-null   Int64  \n",
      " 6   weight                     1610 non-null   Int64  \n",
      " 7   foot                       1241 non-null   string \n",
      " 8   total_matches              2092 non-null   Int64  \n",
      " 9   total_goals                2092 non-null   Int64  \n",
      " 10  total_minutes              2092 non-null   Int64  \n",
      " 11  total_assists              1293 non-null   Int64  \n",
      " 12  total_yellow               2092 non-null   Int64  \n",
      " 13  total_red                  2092 non-null   Int64  \n",
      " 14  minutes_per_goal_conceded  2092 non-null   Int64  \n",
      " 15  shot_accuracy              1863 non-null   Float64\n",
      " 16  pass_completion_rate       1863 non-null   Float64\n",
      " 17  cross_completion_rate      1863 non-null   Float64\n",
      " 18  minutes_per_assist         607 non-null    Int64  \n",
      " 19  dribble_success_rate       1863 non-null   Float64\n",
      " 20  tackles                    1863 non-null   Int64  \n",
      " 21  interception               1863 non-null   Int64  \n",
      " 22  market_value               1931 non-null   Float64\n",
      " 23  titles                     1935 non-null   Int64  \n",
      " 24  injuries                   2092 non-null   Int64  \n",
      "dtypes: Float64(5), Int64(15), string(5)\n",
      "memory usage: 449.6 KB\n"
     ]
    }
   ],
   "source": [
    "df = df.convert_dtypes() # using supported function from pandas\n",
    "\n",
    "# check conversion results\n",
    "df.info()"
   ]
  },
  {
   "cell_type": "markdown",
   "metadata": {},
   "source": [
    "### What does each column mean?\n",
    "1. **name**: The player's name\n",
    "2. **age**: The player's age\n",
    "3. **nationality**: The player's citizenship\n",
    "4. **club**: The current club of player\n",
    "5. **position**: The forte position of player\n",
    "6. **height**: The height of player (cm)\n",
    "7. **weight**: The weight of player (kg)\n",
    "8. **foot**: The foot which player prefers to use\n",
    "9. **total_matches**: The total number of matches played\n",
    "10. **total_goals**: The total number of goals of player\n",
    "11. **total_minutes**: The total minutes on the field of player\n",
    "12. **total_assists**: The total assists of player\n",
    "13. **total_yellow**: The total yellow cards of player\n",
    "14. **total_red**: The total red cards of player\n",
    "15. **minutes_per_goal_conceded**: The minutes per goal conceded\n",
    "16. **shot_accuracy**: The accuracy of shot on target\n",
    "17. **pass_completion_rate**: The rate of successful passes\n",
    "18. **cross_completion_rate**: The rate of successful cross\n",
    "19. **minute_per_assist**: The minutes taken to have an assist\n",
    "20. **dribble_success_rate**: The rate of successful dribble\n",
    "21. **tackles**: The number of tackles of player \n",
    "22. **interception**: The number of interceptions of player\n",
    "23. **market_value**: Market value of player (milion euro)\n",
    "24. **titles**: The total number of titles\n",
    "25. **injuries**: The total number of injuries"
   ]
  },
  {
   "cell_type": "code",
   "execution_count": null,
   "metadata": {},
   "outputs": [],
   "source": []
  }
 ],
 "metadata": {
  "kernelspec": {
   "display_name": "Python 3",
   "language": "python",
   "name": "python3"
  },
  "language_info": {
   "codemirror_mode": {
    "name": "ipython",
    "version": 3
   },
   "file_extension": ".py",
   "mimetype": "text/x-python",
   "name": "python",
   "nbconvert_exporter": "python",
   "pygments_lexer": "ipython3",
   "version": "3.12.0"
  }
 },
 "nbformat": 4,
 "nbformat_minor": 2
}

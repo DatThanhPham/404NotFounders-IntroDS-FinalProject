{
 "cells": [
  {
   "cell_type": "code",
   "execution_count": 19,
   "metadata": {},
   "outputs": [],
   "source": [
    "# import necessary libraries\n",
    "\n",
    "from bs4 import BeautifulSoup\n",
    "from selenium import webdriver\n",
    "from selenium.webdriver.common.by import By\n",
    "from selenium.webdriver.support.ui import WebDriverWait\n",
    "from selenium.webdriver.support import expected_conditions as EC"
   ]
  },
  {
   "cell_type": "code",
   "execution_count": 20,
   "metadata": {},
   "outputs": [],
   "source": [
    "# setup browser and url\n",
    "\n",
    "browser = webdriver.Chrome()\n",
    "\n",
    "url = 'https://footystats.org'"
   ]
  },
  {
   "cell_type": "code",
   "execution_count": 21,
   "metadata": {},
   "outputs": [
    {
     "data": {
      "text/plain": [
       "<selenium.webdriver.remote.webelement.WebElement (session=\"e7d9aedfc097211d3f0f09b8cb179f6a\", element=\"f.D70E99814EF2613D814C75A194B08EF0.d.E865B91AB73627C2D48FB265C66AD158.e.1550\")>"
      ]
     },
     "execution_count": 21,
     "metadata": {},
     "output_type": "execute_result"
    }
   ],
   "source": [
    "# open website\n",
    "\n",
    "browser.get(url)\n",
    "browser.maximize_window()\n",
    "\n",
    "# wait until dropdown menu is loaded\n",
    "WebDriverWait(browser, 20).until(\n",
    "    EC.presence_of_element_located((By.XPATH, \"//*[text()='Leagues']\"))\n",
    ")"
   ]
  },
  {
   "cell_type": "code",
   "execution_count": 22,
   "metadata": {},
   "outputs": [
    {
     "name": "stdout",
     "output_type": "stream",
     "text": [
      "Premier League https://footystats.org/england/premier-league\n",
      "La Liga https://footystats.org/spain/la-liga\n",
      "Ligue 1 https://footystats.org/france/ligue-1\n",
      "Bundesliga https://footystats.org/germany/bundesliga\n",
      "Brazil Serie A https://footystats.org/brazil/serie-a\n"
     ]
    }
   ],
   "source": [
    "# grab links to chosen leagues from dropdown menu\n",
    "\n",
    "leagues = ['Premier League', 'La Liga', 'Ligue 1', 'Bundesliga', 'Brazil Serie A']\n",
    "\n",
    "# hover over 'Leagues' dropdown menu\n",
    "leagues_dropdown = browser.find_element(By.XPATH, \"//*[text()='Leagues']\")\n",
    "webdriver.ActionChains(browser).move_to_element(leagues_dropdown).perform()\n",
    "\n",
    "# find and extract links to chosen leagues from dropdown menu\n",
    "leagues_links = []\n",
    "for league in leagues:\n",
    "    league_link = browser.find_element(By.XPATH, f\"//*[text()='{league}']\")\n",
    "    leagues_links.append(league_link.get_attribute('href'))\n",
    "    \n",
    "# print out for debugging\n",
    "for league, link in zip(leagues, leagues_links):\n",
    "    print(league, link)"
   ]
  },
  {
   "cell_type": "code",
   "execution_count": 23,
   "metadata": {},
   "outputs": [],
   "source": [
    "# quit the browser\n",
    "\n",
    "browser.quit()"
   ]
  }
 ],
 "metadata": {
  "kernelspec": {
   "display_name": "Python 3",
   "language": "python",
   "name": "python3"
  },
  "language_info": {
   "codemirror_mode": {
    "name": "ipython",
    "version": 3
   },
   "file_extension": ".py",
   "mimetype": "text/x-python",
   "name": "python",
   "nbconvert_exporter": "python",
   "pygments_lexer": "ipython3",
   "version": "3.12.0"
  }
 },
 "nbformat": 4,
 "nbformat_minor": 2
}

{
 "cells": [
  {
   "cell_type": "code",
   "execution_count": 31,
   "metadata": {},
   "outputs": [],
   "source": [
    "# import necessary libraries\n",
    "\n",
    "from bs4 import BeautifulSoup\n",
    "from selenium import webdriver\n",
    "from selenium.webdriver.common.by import By\n",
    "from selenium.webdriver.support.ui import WebDriverWait\n",
    "from selenium.webdriver.support import expected_conditions as EC"
   ]
  },
  {
   "cell_type": "code",
   "execution_count": 32,
   "metadata": {},
   "outputs": [],
   "source": [
    "# setup browser and url\n",
    "\n",
    "browser = webdriver.Chrome()\n",
    "\n",
    "url = 'https://footystats.org'"
   ]
  },
  {
   "cell_type": "code",
   "execution_count": 33,
   "metadata": {},
   "outputs": [
    {
     "data": {
      "text/plain": [
       "<selenium.webdriver.remote.webelement.WebElement (session=\"7734e42b580873d2a0ebbf6b26bdd6b8\", element=\"f.FE1F4233904D9D3C7452156D8182ED2E.d.2FF9500CDAC4C0A1C114441A4D54D355.e.328\")>"
      ]
     },
     "execution_count": 33,
     "metadata": {},
     "output_type": "execute_result"
    }
   ],
   "source": [
    "# open website\n",
    "\n",
    "browser.get(url)\n",
    "browser.maximize_window()\n",
    "\n",
    "# wait until dropdown menu is loaded\n",
    "WebDriverWait(browser, 20).until(\n",
    "    EC.presence_of_element_located((By.XPATH, \"//*[text()='Leagues']\"))\n",
    ")"
   ]
  },
  {
   "cell_type": "code",
   "execution_count": 34,
   "metadata": {},
   "outputs": [
    {
     "name": "stdout",
     "output_type": "stream",
     "text": [
      "Premier League https://footystats.org/england/premier-league\n",
      "La Liga https://footystats.org/spain/la-liga\n",
      "Ligue 1 https://footystats.org/france/ligue-1\n",
      "Bundesliga https://footystats.org/germany/bundesliga\n",
      "Serie A https://footystats.org/italy/serie-a\n"
     ]
    }
   ],
   "source": [
    "# grab links to chosen leagues from dropdown menu\n",
    "\n",
    "leagues = ['Premier League', 'La Liga', 'Ligue 1', 'Bundesliga', 'Serie A']\n",
    "\n",
    "# hover over 'Leagues' dropdown menu\n",
    "leagues_dropdown = browser.find_element(By.XPATH, \"//*[text()='Leagues']\")\n",
    "webdriver.ActionChains(browser).move_to_element(leagues_dropdown).perform()\n",
    "\n",
    "# find and extract links to chosen leagues from dropdown menu\n",
    "leagues_links = []\n",
    "for league in leagues:\n",
    "    league_link = browser.find_element(By.XPATH, f\"//*[text()='{league}']\")\n",
    "    leagues_links.append(league_link.get_attribute('href'))\n",
    "    \n",
    "# print out for debugging\n",
    "for league, link in zip(leagues, leagues_links):\n",
    "    print(league, link)"
   ]
  },
  {
   "cell_type": "markdown",
   "metadata": {},
   "source": [
    "### Take all links of clubs from league links"
   ]
  },
  {
   "cell_type": "code",
   "execution_count": 35,
   "metadata": {},
   "outputs": [
    {
     "ename": "TimeoutException",
     "evalue": "Message: \nStacktrace:\n\tGetHandleVerifier [0x00007FF755E3B095+29557]\n\t(No symbol) [0x00007FF755DAFA50]\n\t(No symbol) [0x00007FF755C6B56A]\n\t(No symbol) [0x00007FF755CBF695]\n\t(No symbol) [0x00007FF755CBF8EC]\n\t(No symbol) [0x00007FF755D0B777]\n\t(No symbol) [0x00007FF755CE71CF]\n\t(No symbol) [0x00007FF755D0851C]\n\t(No symbol) [0x00007FF755CE6F33]\n\t(No symbol) [0x00007FF755CB116F]\n\t(No symbol) [0x00007FF755CB22D1]\n\tGetHandleVerifier [0x00007FF75616C96D+3378253]\n\tGetHandleVerifier [0x00007FF7561B8497+3688311]\n\tGetHandleVerifier [0x00007FF7561AD1CB+3642539]\n\tGetHandleVerifier [0x00007FF755EFA6B6+813462]\n\t(No symbol) [0x00007FF755DBAB5F]\n\t(No symbol) [0x00007FF755DB6B74]\n\t(No symbol) [0x00007FF755DB6D10]\n\t(No symbol) [0x00007FF755DA5C1F]\n\tBaseThreadInitThunk [0x00007FFBE11B7AC4+20]\n\tRtlUserThreadStart [0x00007FFBE208A8C1+33]\n",
     "output_type": "error",
     "traceback": [
      "\u001b[1;31m---------------------------------------------------------------------------\u001b[0m",
      "\u001b[1;31mTimeoutException\u001b[0m                          Traceback (most recent call last)",
      "Cell \u001b[1;32mIn[35], line 7\u001b[0m\n\u001b[0;32m      5\u001b[0m \u001b[38;5;28;01mfor\u001b[39;00m link \u001b[38;5;129;01min\u001b[39;00m leagues_links:\n\u001b[0;32m      6\u001b[0m     browser\u001b[38;5;241m.\u001b[39mget(link)\n\u001b[1;32m----> 7\u001b[0m     \u001b[43mWebDriverWait\u001b[49m\u001b[43m(\u001b[49m\u001b[43mbrowser\u001b[49m\u001b[43m,\u001b[49m\u001b[43m \u001b[49m\u001b[38;5;241;43m20\u001b[39;49m\u001b[43m)\u001b[49m\u001b[38;5;241;43m.\u001b[39;49m\u001b[43muntil\u001b[49m\u001b[43m(\u001b[49m\u001b[43mEC\u001b[49m\u001b[38;5;241;43m.\u001b[39;49m\u001b[43mpresence_of_element_located\u001b[49m\u001b[43m(\u001b[49m\u001b[43m(\u001b[49m\u001b[43mBy\u001b[49m\u001b[38;5;241;43m.\u001b[39;49m\u001b[43mCLASS_NAME\u001b[49m\u001b[43m,\u001b[49m\u001b[43m \u001b[49m\u001b[38;5;124;43m\"\u001b[39;49m\u001b[38;5;124;43mtable-wrapper\u001b[39;49m\u001b[38;5;124;43m\"\u001b[39;49m\u001b[43m)\u001b[49m\u001b[43m)\u001b[49m\u001b[43m)\u001b[49m\n\u001b[0;32m      8\u001b[0m     club_elements \u001b[38;5;241m=\u001b[39m browser\u001b[38;5;241m.\u001b[39mfind_elements(By\u001b[38;5;241m.\u001b[39mXPATH, \u001b[38;5;124m\"\u001b[39m\u001b[38;5;124m//table//tr//td//a[contains(@href, \u001b[39m\u001b[38;5;124m'\u001b[39m\u001b[38;5;124m/clubs/\u001b[39m\u001b[38;5;124m'\u001b[39m\u001b[38;5;124m)]\u001b[39m\u001b[38;5;124m\"\u001b[39m)\n\u001b[0;32m      9\u001b[0m     club_links \u001b[38;5;241m=\u001b[39m np\u001b[38;5;241m.\u001b[39marray([club_link\u001b[38;5;241m.\u001b[39mget_attribute(\u001b[38;5;124m'\u001b[39m\u001b[38;5;124mhref\u001b[39m\u001b[38;5;124m'\u001b[39m) \u001b[38;5;28;01mfor\u001b[39;00m club_link \u001b[38;5;129;01min\u001b[39;00m club_elements])\n",
      "File \u001b[1;32mc:\\python\\Lib\\site-packages\\selenium\\webdriver\\support\\wait.py:105\u001b[0m, in \u001b[0;36mWebDriverWait.until\u001b[1;34m(self, method, message)\u001b[0m\n\u001b[0;32m    103\u001b[0m     \u001b[38;5;28;01mif\u001b[39;00m time\u001b[38;5;241m.\u001b[39mmonotonic() \u001b[38;5;241m>\u001b[39m end_time:\n\u001b[0;32m    104\u001b[0m         \u001b[38;5;28;01mbreak\u001b[39;00m\n\u001b[1;32m--> 105\u001b[0m \u001b[38;5;28;01mraise\u001b[39;00m TimeoutException(message, screen, stacktrace)\n",
      "\u001b[1;31mTimeoutException\u001b[0m: Message: \nStacktrace:\n\tGetHandleVerifier [0x00007FF755E3B095+29557]\n\t(No symbol) [0x00007FF755DAFA50]\n\t(No symbol) [0x00007FF755C6B56A]\n\t(No symbol) [0x00007FF755CBF695]\n\t(No symbol) [0x00007FF755CBF8EC]\n\t(No symbol) [0x00007FF755D0B777]\n\t(No symbol) [0x00007FF755CE71CF]\n\t(No symbol) [0x00007FF755D0851C]\n\t(No symbol) [0x00007FF755CE6F33]\n\t(No symbol) [0x00007FF755CB116F]\n\t(No symbol) [0x00007FF755CB22D1]\n\tGetHandleVerifier [0x00007FF75616C96D+3378253]\n\tGetHandleVerifier [0x00007FF7561B8497+3688311]\n\tGetHandleVerifier [0x00007FF7561AD1CB+3642539]\n\tGetHandleVerifier [0x00007FF755EFA6B6+813462]\n\t(No symbol) [0x00007FF755DBAB5F]\n\t(No symbol) [0x00007FF755DB6B74]\n\t(No symbol) [0x00007FF755DB6D10]\n\t(No symbol) [0x00007FF755DA5C1F]\n\tBaseThreadInitThunk [0x00007FFBE11B7AC4+20]\n\tRtlUserThreadStart [0x00007FFBE208A8C1+33]\n"
     ]
    }
   ],
   "source": [
    "import numpy as np\n",
    "\n",
    "all_club_links = []\n",
    "\n",
    "for link in leagues_links:\n",
    "    browser.get(link)\n",
    "    WebDriverWait(browser, 20).until(EC.presence_of_element_located((By.CLASS_NAME, \"table-wrapper\")))\n",
    "    club_elements = browser.find_elements(By.XPATH, \"//table//tr//td//a[contains(@href, '/clubs/')]\")\n",
    "    club_links = np.array([club_link.get_attribute('href') for club_link in club_elements])\n",
    "    all_club_links.extend(club_links)\n",
    "\n",
    "all_club_links = np.array(list(set(all_club_links)))\n",
    "\n",
    "print(len(all_club_links))\n",
    "\n",
    "for link in all_club_links:\n",
    "    print(link)"
   ]
  },
  {
   "cell_type": "markdown",
   "metadata": {},
   "source": [
    "### Take all links of players of 5 leagues"
   ]
  },
  {
   "cell_type": "code",
   "execution_count": null,
   "metadata": {},
   "outputs": [
    {
     "ename": "TimeoutException",
     "evalue": "Message: timeout: Timed out receiving message from renderer: 299.513\n  (Session info: chrome=129.0.6668.101)\nStacktrace:\n\tGetHandleVerifier [0x00007FF755E3B095+29557]\n\t(No symbol) [0x00007FF755DAFA50]\n\t(No symbol) [0x00007FF755C6B56A]\n\t(No symbol) [0x00007FF755C541E7]\n\t(No symbol) [0x00007FF755C53EEA]\n\t(No symbol) [0x00007FF755C51D65]\n\t(No symbol) [0x00007FF755C525BF]\n\t(No symbol) [0x00007FF755C60F4E]\n\t(No symbol) [0x00007FF755C79A1D]\n\t(No symbol) [0x00007FF755C7F5BA]\n\t(No symbol) [0x00007FF755C52D24]\n\t(No symbol) [0x00007FF755C79879]\n\t(No symbol) [0x00007FF755D08861]\n\t(No symbol) [0x00007FF755CE6F33]\n\t(No symbol) [0x00007FF755CB116F]\n\t(No symbol) [0x00007FF755CB22D1]\n\tGetHandleVerifier [0x00007FF75616C96D+3378253]\n\tGetHandleVerifier [0x00007FF7561B8497+3688311]\n\tGetHandleVerifier [0x00007FF7561AD1CB+3642539]\n\tGetHandleVerifier [0x00007FF755EFA6B6+813462]\n\t(No symbol) [0x00007FF755DBAB5F]\n\t(No symbol) [0x00007FF755DB6B74]\n\t(No symbol) [0x00007FF755DB6D10]\n\t(No symbol) [0x00007FF755DA5C1F]\n\tBaseThreadInitThunk [0x00007FFBE11B7AC4+20]\n\tRtlUserThreadStart [0x00007FFBE208A8C1+33]\n",
     "output_type": "error",
     "traceback": [
      "\u001b[1;31m---------------------------------------------------------------------------\u001b[0m",
      "\u001b[1;31mTimeoutException\u001b[0m                          Traceback (most recent call last)",
      "Cell \u001b[1;32mIn[12], line 4\u001b[0m\n\u001b[0;32m      1\u001b[0m all_players_link \u001b[38;5;241m=\u001b[39m []\n\u001b[0;32m      3\u001b[0m \u001b[38;5;28;01mfor\u001b[39;00m link \u001b[38;5;129;01min\u001b[39;00m all_club_links:\n\u001b[1;32m----> 4\u001b[0m     \u001b[43mbrowser\u001b[49m\u001b[38;5;241;43m.\u001b[39;49m\u001b[43mget\u001b[49m\u001b[43m(\u001b[49m\u001b[43mlink\u001b[49m\u001b[43m)\u001b[49m\n\u001b[0;32m      5\u001b[0m     WebDriverWait(browser, \u001b[38;5;241m20\u001b[39m)\u001b[38;5;241m.\u001b[39muntil(EC\u001b[38;5;241m.\u001b[39mpresence_of_element_located((By\u001b[38;5;241m.\u001b[39mXPATH, \u001b[38;5;124m\"\u001b[39m\u001b[38;5;124m//*[text()=\u001b[39m\u001b[38;5;124m'\u001b[39m\u001b[38;5;124mPlayers\u001b[39m\u001b[38;5;124m'\u001b[39m\u001b[38;5;124m]\u001b[39m\u001b[38;5;124m\"\u001b[39m)))\n\u001b[0;32m      6\u001b[0m     browser\u001b[38;5;241m.\u001b[39mfind_element(By\u001b[38;5;241m.\u001b[39mXPATH, \u001b[38;5;124m\"\u001b[39m\u001b[38;5;124m//*[text()=\u001b[39m\u001b[38;5;124m'\u001b[39m\u001b[38;5;124mPlayers\u001b[39m\u001b[38;5;124m'\u001b[39m\u001b[38;5;124m]\u001b[39m\u001b[38;5;124m\"\u001b[39m)\u001b[38;5;241m.\u001b[39mclick()\n",
      "File \u001b[1;32mc:\\python\\Lib\\site-packages\\selenium\\webdriver\\remote\\webdriver.py:363\u001b[0m, in \u001b[0;36mWebDriver.get\u001b[1;34m(self, url)\u001b[0m\n\u001b[0;32m    361\u001b[0m \u001b[38;5;28;01mdef\u001b[39;00m \u001b[38;5;21mget\u001b[39m(\u001b[38;5;28mself\u001b[39m, url: \u001b[38;5;28mstr\u001b[39m) \u001b[38;5;241m-\u001b[39m\u001b[38;5;241m>\u001b[39m \u001b[38;5;28;01mNone\u001b[39;00m:\n\u001b[0;32m    362\u001b[0m \u001b[38;5;250m    \u001b[39m\u001b[38;5;124;03m\"\"\"Loads a web page in the current browser session.\"\"\"\u001b[39;00m\n\u001b[1;32m--> 363\u001b[0m     \u001b[38;5;28;43mself\u001b[39;49m\u001b[38;5;241;43m.\u001b[39;49m\u001b[43mexecute\u001b[49m\u001b[43m(\u001b[49m\u001b[43mCommand\u001b[49m\u001b[38;5;241;43m.\u001b[39;49m\u001b[43mGET\u001b[49m\u001b[43m,\u001b[49m\u001b[43m \u001b[49m\u001b[43m{\u001b[49m\u001b[38;5;124;43m\"\u001b[39;49m\u001b[38;5;124;43murl\u001b[39;49m\u001b[38;5;124;43m\"\u001b[39;49m\u001b[43m:\u001b[49m\u001b[43m \u001b[49m\u001b[43murl\u001b[49m\u001b[43m}\u001b[49m\u001b[43m)\u001b[49m\n",
      "File \u001b[1;32mc:\\python\\Lib\\site-packages\\selenium\\webdriver\\remote\\webdriver.py:354\u001b[0m, in \u001b[0;36mWebDriver.execute\u001b[1;34m(self, driver_command, params)\u001b[0m\n\u001b[0;32m    352\u001b[0m response \u001b[38;5;241m=\u001b[39m \u001b[38;5;28mself\u001b[39m\u001b[38;5;241m.\u001b[39mcommand_executor\u001b[38;5;241m.\u001b[39mexecute(driver_command, params)\n\u001b[0;32m    353\u001b[0m \u001b[38;5;28;01mif\u001b[39;00m response:\n\u001b[1;32m--> 354\u001b[0m     \u001b[38;5;28;43mself\u001b[39;49m\u001b[38;5;241;43m.\u001b[39;49m\u001b[43merror_handler\u001b[49m\u001b[38;5;241;43m.\u001b[39;49m\u001b[43mcheck_response\u001b[49m\u001b[43m(\u001b[49m\u001b[43mresponse\u001b[49m\u001b[43m)\u001b[49m\n\u001b[0;32m    355\u001b[0m     response[\u001b[38;5;124m\"\u001b[39m\u001b[38;5;124mvalue\u001b[39m\u001b[38;5;124m\"\u001b[39m] \u001b[38;5;241m=\u001b[39m \u001b[38;5;28mself\u001b[39m\u001b[38;5;241m.\u001b[39m_unwrap_value(response\u001b[38;5;241m.\u001b[39mget(\u001b[38;5;124m\"\u001b[39m\u001b[38;5;124mvalue\u001b[39m\u001b[38;5;124m\"\u001b[39m, \u001b[38;5;28;01mNone\u001b[39;00m))\n\u001b[0;32m    356\u001b[0m     \u001b[38;5;28;01mreturn\u001b[39;00m response\n",
      "File \u001b[1;32mc:\\python\\Lib\\site-packages\\selenium\\webdriver\\remote\\errorhandler.py:229\u001b[0m, in \u001b[0;36mErrorHandler.check_response\u001b[1;34m(self, response)\u001b[0m\n\u001b[0;32m    227\u001b[0m         alert_text \u001b[38;5;241m=\u001b[39m value[\u001b[38;5;124m\"\u001b[39m\u001b[38;5;124malert\u001b[39m\u001b[38;5;124m\"\u001b[39m]\u001b[38;5;241m.\u001b[39mget(\u001b[38;5;124m\"\u001b[39m\u001b[38;5;124mtext\u001b[39m\u001b[38;5;124m\"\u001b[39m)\n\u001b[0;32m    228\u001b[0m     \u001b[38;5;28;01mraise\u001b[39;00m exception_class(message, screen, stacktrace, alert_text)  \u001b[38;5;66;03m# type: ignore[call-arg]  # mypy is not smart enough here\u001b[39;00m\n\u001b[1;32m--> 229\u001b[0m \u001b[38;5;28;01mraise\u001b[39;00m exception_class(message, screen, stacktrace)\n",
      "\u001b[1;31mTimeoutException\u001b[0m: Message: timeout: Timed out receiving message from renderer: 299.513\n  (Session info: chrome=129.0.6668.101)\nStacktrace:\n\tGetHandleVerifier [0x00007FF755E3B095+29557]\n\t(No symbol) [0x00007FF755DAFA50]\n\t(No symbol) [0x00007FF755C6B56A]\n\t(No symbol) [0x00007FF755C541E7]\n\t(No symbol) [0x00007FF755C53EEA]\n\t(No symbol) [0x00007FF755C51D65]\n\t(No symbol) [0x00007FF755C525BF]\n\t(No symbol) [0x00007FF755C60F4E]\n\t(No symbol) [0x00007FF755C79A1D]\n\t(No symbol) [0x00007FF755C7F5BA]\n\t(No symbol) [0x00007FF755C52D24]\n\t(No symbol) [0x00007FF755C79879]\n\t(No symbol) [0x00007FF755D08861]\n\t(No symbol) [0x00007FF755CE6F33]\n\t(No symbol) [0x00007FF755CB116F]\n\t(No symbol) [0x00007FF755CB22D1]\n\tGetHandleVerifier [0x00007FF75616C96D+3378253]\n\tGetHandleVerifier [0x00007FF7561B8497+3688311]\n\tGetHandleVerifier [0x00007FF7561AD1CB+3642539]\n\tGetHandleVerifier [0x00007FF755EFA6B6+813462]\n\t(No symbol) [0x00007FF755DBAB5F]\n\t(No symbol) [0x00007FF755DB6B74]\n\t(No symbol) [0x00007FF755DB6D10]\n\t(No symbol) [0x00007FF755DA5C1F]\n\tBaseThreadInitThunk [0x00007FFBE11B7AC4+20]\n\tRtlUserThreadStart [0x00007FFBE208A8C1+33]\n"
     ]
    }
   ],
   "source": [
    "all_players_link = []\n",
    "\n",
    "for link in all_club_links:\n",
    "    browser.get(link)\n",
    "    WebDriverWait(browser, 20).until(EC.presence_of_element_located((By.XPATH, \"//*[text()='Players']\")))\n",
    "    browser.find_element(By.XPATH, \"//*[text()='Players']\").click()\n",
    "    players_elements = browser.find_elements(By.CLASS_NAME, \"semi-bold\")\n",
    "    players_links = np.array([player_link.get_attribute('href') for player_link in players_elements])\n",
    "    all_players_link.extend(players_links)\n",
    "\n",
    "all_players_link = np.array(list(set(all_players_link)))\n",
    "\n",
    "print(len(all_players_link))\n",
    "\n",
    "# for link in all_players_link:\n",
    "#     print(link)"
   ]
  },
  {
   "cell_type": "code",
   "execution_count": null,
   "metadata": {},
   "outputs": [],
   "source": [
    "import re\n",
    "# \n",
    "def get_stat_number_int(stat):\n",
    "    stat_number = int(re.findall(r'\\d+', stat)[0])\n",
    "    return stat_number\n",
    "\n",
    "def get_stat_number_float(stat):\n",
    "    stat_number_match = re.findall(r'\\d+', stat)\n",
    "    stat_number = float(stat_number_match[0] + \".\" + stat_number_match[1])\n",
    "    return stat_number"
   ]
  },
  {
   "cell_type": "code",
   "execution_count": null,
   "metadata": {},
   "outputs": [
    {
     "name": "stdout",
     "output_type": "stream",
     "text": [
      "Name: Kai Havertz\n",
      "Age: 25\n",
      "Nationality: Germany\n",
      "Club: Arsenal\n",
      "Position: Midfielder - Attacking Midfield\n",
      "Height: 193\n",
      "Weight: 83\n",
      "Foot: Both\n",
      "Total Matches Played: 7\n",
      "Total Minutes: 630\n",
      "Total Goals Scored: 4\n",
      "Total Assists: 1\n",
      "Total Yellow Cards: 0\n",
      "Total Red Cards: 0\n",
      "Minutes Per Goal: 158\n",
      "Shot Accuracy: 52.63\n",
      "Pass Completion Rate: 76.43\n",
      "Cross Completion Rate: 33.33\n",
      "Minutes Per Assist: 630\n",
      "Dribble Success Rate: 31.58\n",
      "Penalty Conversion Rate: No Pens\n",
      "Tackles: 7\n",
      "Interceptions: 4\n",
      "Market Value: 70.0\n",
      "Titles Won: 6\n"
     ]
    }
   ],
   "source": [
    "# Set up the Selenium WebDriver (make sure you have installed the required driver for your browser, e.g., ChromeDriver)\n",
    "browser = webdriver.Chrome()\n",
    "\n",
    "for link in all_players_link:\n",
    "    # Open the page\n",
    "    browser.get(link)\n",
    "\n",
    "    # Wait until the div with id 'h2h_content3' is present\n",
    "    content_div = WebDriverWait(driver, 10).until(\n",
    "        EC.presence_of_element_located((By.ID, \"h2h_content3\"))\n",
    "    )\n",
    "    # Locate the div with id 'h2h_content1'\n",
    "    content_div = browser.find_element(By.ID, \"h2h_content1\")\n",
    "    name = (content_div.find_element(By.XPATH, './/div[@class=\"w100 row cf\"]/h1[@class=\"row white heroh1\"]').text).split(\" Stats\")[0].strip() \n",
    "    age = (content_div.find_element(By.XPATH, './/div[@class=\"fl rw33 white fs08e pb05e mr15e\"]/span[@class=\"semi-bold\"]').text).split('(')[0].strip()\n",
    "    nationality = content_div.find_element(By.XPATH, './/div[@class=\"fl rw33 white fs08e ml15e\"][1]/span[@class=\"semi-bold\"]').text\n",
    "    club = content_div.find_element(By.XPATH, './/div[@class=\"fl rw50 white fs08e\"]/a').text\n",
    "    position = content_div.find_element(By.XPATH, './/div[@class=\"fl rw33 white fs08e\"][1]/span[@class=\"semi-bold\"]').text\n",
    "    height = get_stat_number_int(content_div.find_element(By.XPATH, './/div[@class=\"fl rw33 white fs08e mr15e\"][1]/span[@class=\"semi-bold\"]').text)\n",
    "    weight = get_stat_number_int(content_div.find_element(By.XPATH, './/div[@class=\"fl rw33 white fs08e mr15e\"][2]/span[@class=\"semi-bold\"]').text)\n",
    "    foot = content_div.find_element(By.XPATH, './/div[@class=\"fl rw33 white fs08e ml15e\"][2]/span[@class=\"semi-bold\"]').text\n",
    "\n",
    "\n",
    "    content_div = browser.find_element(By.ID, \"h2h_content2\")\n",
    "    total_matches = content_div.find_element(By.XPATH, './/td[contains(text(), \"Matches Played\")]/following-sibling::td[1]').text\n",
    "    total_minutes = content_div.find_element(By.XPATH, './/td[contains(text(), \"Minutes\")]/following-sibling::td[1]').text\n",
    "    total_goals = content_div.find_element(By.XPATH, './/td[contains(text(), \"Goals Scored\")]/following-sibling::td[1]').text\n",
    "    total_assists = content_div.find_element(By.XPATH, './/td[contains(text(), \"Assists\")]/following-sibling::td[1]').text\n",
    "    total_yellow = content_div.find_element(By.XPATH, './/td[contains(text(), \" Yellow Cards\")]/following-sibling::td[1]').text\n",
    "    total_red = content_div.find_element(By.XPATH, './/td[contains(text(), \" Red Cards\")]/following-sibling::td[1]').text\n",
    "    minutes_per_goal = get_stat_number_int(content_div.find_element(By.XPATH, './/td[contains(text(), \"Minutes Per Goal\")]/following-sibling::td[1]').text)\n",
    "    shot_accuracy = get_stat_number_float(content_div.find_element(By.XPATH, './/td[contains(text(), \"Shot Accuracy\")]/following-sibling::td[1]').text)\n",
    "    pass_completion_rate = get_stat_number_float(content_div.find_element(By.XPATH, './/td[contains(text(), \"Pass Completion Rate\")]/following-sibling::td[1]').text)\n",
    "    cross_completion_rate = get_stat_number_float(content_div.find_element(By.XPATH, './/td[contains(text(), \"Cross Completion Rate\")]/following-sibling::td[1]').text)\n",
    "    minutes_per_assist = get_stat_number_int(content_div.find_element(By.XPATH, './/td[contains(text(), \"Minutes Per Assist\")]/following-sibling::td[1]').text)\n",
    "    dribble_success_rate = get_stat_number_float(content_div.find_element(By.XPATH, './/td[contains(text(), \"Dribble Success Rate\")]/following-sibling::td[1]').text)\n",
    "    penalty_conversion_rate = content_div.find_element(By.XPATH, './/td[contains(text(), \"Penalty Conversion Rate\")]/following-sibling::td[1]').text\n",
    "    penalty_conversion_rate_match = re.findall(r'\\d+', penalty_conversion_rate)\n",
    "    if (penalty_conversion_rate_match):\n",
    "        penalty_conversion_rate = get_stat_number_float(penalty_conversion_rate)\n",
    "    tackles = content_div.find_element(By.XPATH, './/td[contains(text(), \"Tackles\")]/following-sibling::td[1]').text\n",
    "    interception = content_div.find_element(By.XPATH, './/td[contains(text(), \"Interceptions\")]/following-sibling::td[1]').text\n",
    "\n",
    "\n",
    "    content_div = browser.find_element(By.ID, \"h2h_content3\")\n",
    "    market_value_section = WebDriverWait(driver, 10).until(\n",
    "        EC.presence_of_element_located((By.XPATH, '//div[@class=\"title-bar\"]'))\n",
    "    )\n",
    "    market_value = get_stat_number_float(content_div.find_element(By.XPATH, './/h3').text)\n",
    "    titles = get_stat_number_int(content_div.find_element(By.XPATH, './/p[@class=\"mt1e lh14e header-blue semi-bold fs09e\"]').text)\n",
    "\n",
    "# print(\"Name:\", name)\n",
    "# print(\"Age:\", age)\n",
    "# print(\"Nationality:\", nationality)\n",
    "# print(\"Club:\", club)\n",
    "# print(\"Position:\", position)\n",
    "# print(\"Height:\", height)\n",
    "# print(\"Weight:\", weight)\n",
    "# print(\"Foot:\", foot)\n",
    "# print(\"Total Matches Played:\", total_matches)\n",
    "# print(\"Total Minutes:\", total_minutes)\n",
    "# print(\"Total Goals Scored:\", total_goals)\n",
    "# print(\"Total Assists:\", total_assists)\n",
    "# print(\"Total Yellow Cards:\", total_yellow)\n",
    "# print(\"Total Red Cards:\", total_red)\n",
    "# print(\"Minutes Per Goal:\", minutes_per_goal)\n",
    "# print(\"Shot Accuracy:\", shot_accuracy)\n",
    "# print(\"Pass Completion Rate:\", pass_completion_rate)\n",
    "# print(\"Cross Completion Rate:\", cross_completion_rate)\n",
    "# print(\"Minutes Per Assist:\", minutes_per_assist)\n",
    "# print(\"Dribble Success Rate:\", dribble_success_rate)\n",
    "# print(\"Penalty Conversion Rate:\", penalty_conversion_rate)\n",
    "# print(\"Tackles:\", tackles)\n",
    "# print(\"Interceptions:\", interception)\n",
    "# print(\"Market Value:\", market_value)\n",
    "# print(\"Titles Won:\", titles)\n",
    "\n",
    "\n",
    "# Close the browser\n",
    "driver.quit()\n"
   ]
  },
  {
   "cell_type": "code",
   "execution_count": null,
   "metadata": {},
   "outputs": [],
   "source": [
    "# quit the browser\n",
    "\n",
    "browser.quit()"
   ]
  }
 ],
 "metadata": {
  "kernelspec": {
   "display_name": "Python 3",
   "language": "python",
   "name": "python3"
  },
  "language_info": {
   "codemirror_mode": {
    "name": "ipython",
    "version": 3
   },
   "file_extension": ".py",
   "mimetype": "text/x-python",
   "name": "python",
   "nbconvert_exporter": "python",
   "pygments_lexer": "ipython3",
   "version": "3.12.4"
  }
 },
 "nbformat": 4,
 "nbformat_minor": 2
}
